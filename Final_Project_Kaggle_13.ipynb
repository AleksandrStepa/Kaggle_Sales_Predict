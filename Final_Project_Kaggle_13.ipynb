{
 "cells": [
  {
   "cell_type": "code",
   "execution_count": null,
   "metadata": {},
   "outputs": [],
   "source": [
    "import numpy as np\n",
    "import pandas as pd\n",
    "import matplotlib.pyplot as plt\n",
    "import seaborn as sns\n",
    "\n",
    "from datetime import date\n",
    "from IPython.core import display as ICD\n",
    "\n",
    "\n",
    "from sklearn.tree import DecisionTreeRegressor\n",
    "from sklearn.ensemble import AdaBoostRegressor\n",
    "from sklearn.cluster import KMeans\n",
    "from sklearn.model_selection import KFold\n",
    "\n",
    "from sklearn.preprocessing import normalize\n",
    "\n",
    "from sklearn.metrics import mean_squared_error\n",
    "\n",
    "from math import sqrt\n",
    "import statistics \n",
    "\n",
    "\n",
    "%matplotlib inline "
   ]
  },
  {
   "cell_type": "code",
   "execution_count": null,
   "metadata": {},
   "outputs": [],
   "source": [
    "data_list = ['transactions', 'items', 'item_categories', 'shops', 'test']\n",
    "for data in data_list:\n",
    "    exec(f'{data} '+'= pd.read_csv(data+\".csv\")')"
   ]
  },
  {
   "cell_type": "code",
   "execution_count": null,
   "metadata": {},
   "outputs": [],
   "source": [
    "data_list = [transactions, items, item_categories, shops, test]\n",
    "for data in data_list:\n",
    "    #для печати нескольких фреймов pandas в формате HTML\n",
    "    ICD.display(data.head())"
   ]
  },
  {
   "cell_type": "code",
   "execution_count": null,
   "metadata": {},
   "outputs": [],
   "source": [
    "transactions['date'] = pd.to_datetime(transactions['date'], format='%d.%m.%Y')\n",
    "transactions['date'] = transactions.date.dt.month"
   ]
  },
  {
   "cell_type": "code",
   "execution_count": null,
   "metadata": {},
   "outputs": [],
   "source": [
    "transactions[['item_price','item_cnt_day']].describe()"
   ]
  },
  {
   "cell_type": "code",
   "execution_count": null,
   "metadata": {},
   "outputs": [],
   "source": [
    "sns.jointplot(x='item_cnt_day', y='item_price', data=transactions, height=8)\n",
    "plt.show()"
   ]
  },
  {
   "cell_type": "markdown",
   "metadata": {},
   "source": [
    "Наблюдается аномальное количество продаж одного товара за один день, удалим этот объект"
   ]
  },
  {
   "cell_type": "code",
   "execution_count": null,
   "metadata": {},
   "outputs": [],
   "source": [
    "# удалям объект с аномальным количеством продаж\n",
    "index_del = transactions.loc[transactions['item_cnt_day']>50].index\n",
    "transactions.drop(transactions.index[index_del], inplace=True)"
   ]
  },
  {
   "cell_type": "markdown",
   "metadata": {},
   "source": [
    "Наблюдается отрицательная цена, скорее всего это ошибка, удаляем эту строку"
   ]
  },
  {
   "cell_type": "code",
   "execution_count": null,
   "metadata": {},
   "outputs": [],
   "source": [
    "# удалям объекты с отрицательной ценой\n",
    "index_del = transactions.loc[(transactions['item_price']<0)&(transactions['item_price']>75000)].index\n",
    "transactions.drop(transactions.index[index_del], inplace=True)"
   ]
  },
  {
   "cell_type": "markdown",
   "metadata": {},
   "source": [
    "Проверим все ли item_id тренировочной выборки есть в тестовой"
   ]
  },
  {
   "cell_type": "code",
   "execution_count": null,
   "metadata": {},
   "outputs": [],
   "source": [
    "item_id_test = test['item_id'].unique().tolist()\n",
    "print (f'Колличество уникальных item_id в тестовой выборке: {len(item_id_test)}')"
   ]
  },
  {
   "cell_type": "code",
   "execution_count": null,
   "metadata": {},
   "outputs": [],
   "source": [
    "item_id_train = transactions['item_id'].unique().tolist()\n",
    "print (f'Колличество уникальных item_id в тренировочной выборке: {len(item_id_train)}')"
   ]
  },
  {
   "cell_type": "code",
   "execution_count": null,
   "metadata": {},
   "outputs": [],
   "source": [
    "item_id_test_train = list(set(item_id_train) & set(item_id_test))\n",
    "print (f'Колличество item_id которые есть в тестовой и тренировочной выборках: {len(item_id_test_train)}')"
   ]
  },
  {
   "cell_type": "markdown",
   "metadata": {},
   "source": [
    "Таким образом, кроме того ,что в тестовой выборке не все  item_id из тренировочной, в ней ещё присутствуют item_id, которых нет в тренировочной, заменим количество продаж таких объектов на 0"
   ]
  },
  {
   "cell_type": "code",
   "execution_count": null,
   "metadata": {},
   "outputs": [],
   "source": [
    "transactions_new = transactions[transactions['item_id'].isin(item_id_test_train)]"
   ]
  },
  {
   "cell_type": "code",
   "execution_count": null,
   "metadata": {},
   "outputs": [],
   "source": [
    "transactions_new[['item_price','item_cnt_day']].describe()"
   ]
  },
  {
   "cell_type": "code",
   "execution_count": null,
   "metadata": {},
   "outputs": [],
   "source": [
    "transactions_new['item_cnt_day'].plot(kind='box')\n",
    "\n",
    "plt.title('Item price')\n",
    "plt.ylabel('Item price')\n",
    "\n",
    "plt.show()"
   ]
  },
  {
   "cell_type": "code",
   "execution_count": null,
   "metadata": {},
   "outputs": [],
   "source": [
    "from sklearn.preprocessing import MinMaxScaler\n",
    "scaler = MinMaxScaler()\n",
    "X = transactions_new['item_price'].values\n",
    "X = X.reshape(-1,1)\n",
    "scaler.fit(X)\n",
    "scaler_X = scaler.transform(X)\n",
    "transactions_new['item_price_minmax'] = scaler_X.copy() "
   ]
  },
  {
   "cell_type": "code",
   "execution_count": null,
   "metadata": {},
   "outputs": [],
   "source": [
    "from sklearn.preprocessing import StandardScaler\n",
    "scaler = StandardScaler()\n",
    "X = transactions_new['item_price'].values\n",
    "X = X.reshape(-1,1)\n",
    "scaler.fit(X)\n",
    "scaler_X = scaler.transform(X)\n",
    "transactions_new['item_price_std'] = scaler_X "
   ]
  },
  {
   "cell_type": "code",
   "execution_count": null,
   "metadata": {},
   "outputs": [],
   "source": [
    "# группировка продаж по месяцам и суммирование всех продаж всех магазинов\n",
    "transactions_group = transactions_new.groupby(['date_block_num'])['item_cnt_day'].sum().to_frame().reset_index()\n",
    "transactions_group.head()"
   ]
  },
  {
   "cell_type": "code",
   "execution_count": null,
   "metadata": {},
   "outputs": [],
   "source": [
    "# График продаж всех товаров во всех магазинах втечении всего периода\n",
    "plt.plot(transactions_group['date_block_num'], transactions_group['item_cnt_day'],'y')\n",
    "plt.ylabel('Num items')\n",
    "plt.xlabel('Month')\n",
    "plt.title(\"Month item counts  for all shops\")\n",
    "plt.show()"
   ]
  },
  {
   "cell_type": "code",
   "execution_count": null,
   "metadata": {},
   "outputs": [],
   "source": [
    "# группировка по месяцу-магазину-товару с заменой цены и ежедневных продаж на средние\n",
    "transactions_mean = transactions_new.groupby(['date_block_num','shop_id','item_id']).mean().reset_index()"
   ]
  },
  {
   "cell_type": "code",
   "execution_count": null,
   "metadata": {},
   "outputs": [],
   "source": [
    "# группировка по месяцу-магазину-товару с заменой цены и ежедневных продаж на сумму\n",
    "transactions_sum = transactions_new.groupby(['date_block_num','shop_id','item_id']).sum().reset_index()"
   ]
  },
  {
   "cell_type": "code",
   "execution_count": null,
   "metadata": {},
   "outputs": [],
   "source": [
    "# создание нового фрейма количество продаж сгруппированных по месяцу-магазину-товару с среденей ценой товара в месяце\n",
    "transactions_new = transactions_mean.copy()\n",
    "transactions_new['item_cnt_day'] = transactions_sum['item_cnt_day'].values\n",
    "transactions_new.rename(columns={'item_cnt_day': 'target'}, inplace=True)"
   ]
  },
  {
   "cell_type": "code",
   "execution_count": null,
   "metadata": {},
   "outputs": [],
   "source": [
    "print(f'Количество уникальных item_id в данных: {len(transactions_new[\"item_id\"].unique().tolist())}')"
   ]
  },
  {
   "cell_type": "markdown",
   "metadata": {},
   "source": [
    "Количество уникальных item_id в преабразованных данных 4737, в тестовой выборке 5100, добавим пары shop_id-item_id и ID из тестовой выборки"
   ]
  },
  {
   "cell_type": "code",
   "execution_count": null,
   "metadata": {},
   "outputs": [],
   "source": [
    "transactions_new.set_index(['shop_id','item_id'], inplace = True)\n",
    "# создаем данные для нулевого месяца\n",
    "transactions_result = transactions_new.loc[transactions_new['date_block_num'] == 0]\n",
    "# присоеденяем ID из тестовых данных\n",
    "transactions_result = transactions_result.join(test.set_index(['shop_id','item_id']), how = 'outer')\n",
    "# заполняем date_block_num сответствующим номером месяца\n",
    "transactions_result['date_block_num'].fillna(0, inplace=True)\n",
    "\n",
    "\n",
    "# все тоже самое для всех оставшихся месяцев (с 0 поступил так, чтобы не мучаться с pd.concat)\n",
    "for month in range(1,34):\n",
    "    transactions_month = transactions_new.loc[transactions_new['date_block_num'] == month]\n",
    "    # присоеденяем ID из тестовых данных\n",
    "    transactions_month = transactions_month.join(test.set_index(['shop_id','item_id']), how = 'outer')\n",
    "    # заполняем date_block_num сответствующим номером месяца\n",
    "    transactions_month['date_block_num'].fillna(month, inplace=True) \n",
    "    # присоеденяем очередной месяц\n",
    "    transactions_result = pd.concat([transactions_result, transactions_month])"
   ]
  },
  {
   "cell_type": "code",
   "execution_count": null,
   "metadata": {},
   "outputs": [],
   "source": [
    "# функция создания цен для пропущенных столбцов\n",
    "# после добавления shop_id-item_id из тестового набора\n",
    "def make_price (df, column_list):\n",
    "    for column in column_list:\n",
    "        column = str(column)\n",
    "        new_column = column+'_tmp'\n",
    "        # формируем столбец с средними значениями цен по товарам за весь период\n",
    "        df[new_column] = df.groupby('item_id')[column].transform('mean')\n",
    "        \n",
    "    for column in column_list:\n",
    "        column = str(column)\n",
    "        new_column = column+'_tmp_month'\n",
    "        # формируем столбец с средними значениями цен по товарам по месяцам\n",
    "        df[new_column] = df.groupby(['date_block_num','item_id'])[column].transform('mean')\n",
    "    return\n",
    "\n",
    "# функция заполнения цен для пропущенных столбцов\n",
    "# после добавления shop_id-item_id из тестового набора\n",
    "def fill_price (df, column_list):\n",
    "    for column in column_list:\n",
    "        column = str(column)\n",
    "        # заполняем отсутсвующие значения цен средними по месяцам (если есть)\n",
    "        df[column].fillna(df[column+'_tmp_month'], inplace=True)\n",
    "        # удаляем временный столбец\n",
    "        df.drop([column+'_tmp_month'], axis = 1, inplace = True)\n",
    "\n",
    "    for column in column_list:\n",
    "        column = str(column)\n",
    "        # заполняем отсутсвующие значения цен средними за весь период\n",
    "        df[column].fillna(df[column+'_tmp'], inplace=True)\n",
    "        # удаляем временный столбец\n",
    "        df.drop([column+'_tmp'], axis = 1, inplace = True)\n",
    "    # удаляем объекты, которых нет в тестовом наборе\n",
    "    df.dropna(subset = ['ID'], inplace = True)\n",
    "    # если в соответсвующем месяце не было продаж, запоняем 0 (это все NaN которые остались)\n",
    "    df.fillna(0, inplace=True)\n",
    "    return df.head()"
   ]
  },
  {
   "cell_type": "code",
   "execution_count": null,
   "metadata": {},
   "outputs": [],
   "source": [
    "transactions_result['flag_miss_price'] = pd.isna(transactions_result['item_price'])\n",
    "transactions_result['flag_miss_price'] = np.where(transactions_result['flag_miss_price'], 1, 0)"
   ]
  },
  {
   "cell_type": "code",
   "execution_count": null,
   "metadata": {},
   "outputs": [],
   "source": [
    "# применяем созданные функции\n",
    "column_list = ['item_price','item_price_minmax','item_price_std']\n",
    "make_price (transactions_result, column_list)\n",
    "fill_price (transactions_result, column_list)\n",
    "transactions_result.reset_index(inplace = True)"
   ]
  },
  {
   "cell_type": "code",
   "execution_count": null,
   "metadata": {},
   "outputs": [],
   "source": [
    "# добавляем категорийный признак: категория товара, суб-категория товара, городской код\n",
    "transactions_result['item_categories_id'] = transactions_result['item_id'].map(items['item_category_id'])\n",
    "transactions_result['item_categories'] = transactions_result['item_categories_id'].map(item_categories['item_category_new'])\n",
    "transactions_result['sub_categories'] = transactions_result['item_categories_id'].map(item_categories['sub_cat'])\n",
    "transactions_result['city_code'] = transactions_result['shop_id'].map(shops['city_code'])\n",
    "transactions_result.drop(columns = 'item_categories_id', inplace = True)"
   ]
  },
  {
   "cell_type": "code",
   "execution_count": null,
   "metadata": {},
   "outputs": [],
   "source": [
    "transactions_result.shape"
   ]
  },
  {
   "cell_type": "code",
   "execution_count": null,
   "metadata": {},
   "outputs": [],
   "source": [
    "# сортируем как в тестовом наборе\n",
    "transactions_result = transactions_result.sort_values(by=['date_block_num','ID'])\n",
    "transactions_result.reset_index(inplace = True)\n",
    "transactions_result.drop(['index'], axis = 1, inplace = True)"
   ]
  },
  {
   "cell_type": "code",
   "execution_count": null,
   "metadata": {},
   "outputs": [],
   "source": [
    "# создаем тестовые данные с добавлением средних цен\n",
    "transactions_result_33 = transactions_result.loc[transactions_result['date_block_num']<34]\n",
    "test = transactions_result_33.groupby(['ID','shop_id','item_id'])[['date_block_num','item_price','target','item_price_minmax','item_price_std']].mean()\n",
    "test['target'] = 0\n",
    "test['date_block_num'] = 34\n",
    "test['flag_miss_price'] = 1\n",
    "test['date'] = 11\n",
    "test.reset_index(inplace = True)"
   ]
  },
  {
   "cell_type": "code",
   "execution_count": null,
   "metadata": {},
   "outputs": [],
   "source": [
    "# добавляем категорийный признак: категория товара\n",
    "test['item_categories_id'] = test['item_id'].map(items['item_category_id'])\n",
    "test['item_categories'] = test['item_categories_id'].map(item_categories['item_category_new'])\n",
    "test['sub_categories'] = test['item_categories_id'].map(item_categories['sub_cat'])\n",
    "test['city_code'] = test['shop_id'].map(shops['city_code'])\n",
    "test.drop(columns = 'item_categories_id', inplace = True)"
   ]
  },
  {
   "cell_type": "code",
   "execution_count": null,
   "metadata": {},
   "outputs": [],
   "source": [
    "test = test.sort_values(by=['date_block_num','ID'])"
   ]
  },
  {
   "cell_type": "code",
   "execution_count": null,
   "metadata": {},
   "outputs": [],
   "source": [
    "# создаем одинаковый порядок коллонок\n",
    "columns = test.columns.tolist()\n",
    "transactions_result = transactions_result[columns]"
   ]
  },
  {
   "cell_type": "code",
   "execution_count": null,
   "metadata": {},
   "outputs": [],
   "source": [
    "transactions_result = pd.concat([transactions_result,test])"
   ]
  },
  {
   "cell_type": "code",
   "execution_count": null,
   "metadata": {},
   "outputs": [],
   "source": [
    "# создаем данные для mean-encodings\n",
    "mean_target_df = transactions_result[['ID','shop_id','item_id','date_block_num','target']].copy()"
   ]
  },
  {
   "cell_type": "code",
   "execution_count": null,
   "metadata": {},
   "outputs": [],
   "source": [
    "# mean-encodings\n",
    "kf = KFold(n_splits = 5, shuffle=False)\n",
    "\n",
    "train, val = zip(*kf.split(mean_target_df))\n",
    "for train_index, val_index, i in zip(train, val, range(5)):\n",
    "    \n",
    "    item_id_target_mean = mean_target_df.iloc[train_index].groupby('item_id').target.mean()\n",
    "    mean_target = mean_target_df.iloc[val_index]\n",
    "    mean_target['item_target_enc'] = mean_target['item_id'].map(item_id_target_mean)\n",
    "    mean_target['item_target_enc'].fillna(0.3343, inplace=True) \n",
    "    if i == 0:\n",
    "        mean_target_result = mean_target.copy()\n",
    "    else:\n",
    "        mean_target_result = pd.concat([mean_target_result,mean_target])\n",
    "mean_target_df = mean_target_result.sort_values(by=['date_block_num','ID'])  \n",
    "#encoded_feature = all_data_result['item_target_enc'].values"
   ]
  },
  {
   "cell_type": "code",
   "execution_count": null,
   "metadata": {},
   "outputs": [],
   "source": [
    "transactions_result['item_target_enc'] = mean_target_df['item_target_enc'].values\n",
    "del mean_target_df"
   ]
  },
  {
   "cell_type": "code",
   "execution_count": null,
   "metadata": {},
   "outputs": [],
   "source": [
    "def down (df, column_list = []):\n",
    "    not_int_columns = column_list\n",
    "    int_columns = list(df.columns.difference(not_int_columns))\n",
    "    for col in int_columns:\n",
    "        df[col] = df[col].astype('int32')\n",
    "    for col in not_int_columns:\n",
    "        df[col] = df[col].astype('float32')"
   ]
  },
  {
   "cell_type": "code",
   "execution_count": null,
   "metadata": {},
   "outputs": [],
   "source": [
    "def downcast_dtypes(df):\n",
    "    '''\n",
    "        Changes column types in the dataframe: \n",
    "                \n",
    "                `float64` type to `float32`\n",
    "                `int64`   type to `int32`\n",
    "    '''\n",
    "    \n",
    "    # Select columns to downcast\n",
    "    float_cols = [c for c in df if df[c].dtype == \"float64\"]\n",
    "    int_cols =   [c for c in df if df[c].dtype == \"int64\"]\n",
    "    \n",
    "    # Downcast\n",
    "    df[float_cols] = df[float_cols].astype(np.float32)\n",
    "    df[int_cols]   = df[int_cols].astype(np.int32)\n",
    "    \n",
    "    return df.head()"
   ]
  },
  {
   "cell_type": "code",
   "execution_count": null,
   "metadata": {},
   "outputs": [],
   "source": [
    "down (transactions_result)"
   ]
  },
  {
   "cell_type": "code",
   "execution_count": null,
   "metadata": {},
   "outputs": [],
   "source": [
    "downcast_dtypes(transactions_result)"
   ]
  },
  {
   "cell_type": "code",
   "execution_count": null,
   "metadata": {},
   "outputs": [],
   "source": [
    "transactions_group = transactions_result.groupby(['shop_id','date_block_num'])['target'].sum().to_frame()"
   ]
  },
  {
   "cell_type": "code",
   "execution_count": null,
   "metadata": {},
   "outputs": [],
   "source": [
    "table = pd.pivot_table(transactions_group, values='target', index=['shop_id'],\n",
    "                    columns=['date_block_num'])\n",
    "table.drop([34], axis = 1, inplace = True)"
   ]
  },
  {
   "cell_type": "code",
   "execution_count": null,
   "metadata": {},
   "outputs": [],
   "source": [
    "colum = table.columns\n",
    "for column in colum:\n",
    "    table.rename(columns={column: 'data'+str(column)}, inplace=True)"
   ]
  },
  {
   "cell_type": "code",
   "execution_count": null,
   "metadata": {},
   "outputs": [],
   "source": [
    "group_items_shop = transactions_result.groupby(['shop_id','item_id'])['target'].sum().to_frame()"
   ]
  },
  {
   "cell_type": "code",
   "execution_count": null,
   "metadata": {},
   "outputs": [],
   "source": [
    "table_items_shop = pd.pivot_table(group_items_shop, values='target', index=['shop_id'],\n",
    "                    columns=['item_id'])"
   ]
  },
  {
   "cell_type": "code",
   "execution_count": null,
   "metadata": {},
   "outputs": [],
   "source": [
    "table = pd.concat([table, table_items_shop], axis = 1)"
   ]
  },
  {
   "cell_type": "code",
   "execution_count": null,
   "metadata": {},
   "outputs": [],
   "source": [
    "del table_items_shop"
   ]
  },
  {
   "cell_type": "code",
   "execution_count": null,
   "metadata": {},
   "outputs": [],
   "source": [
    "X = table.values\n",
    "X = normalize(X)\n",
    "\n",
    "kmeans = KMeans(n_clusters=2, random_state=241)\n",
    "kmeans.fit(X)\n",
    "labels = pd.DataFrame(kmeans.labels_, columns = ['labels'])"
   ]
  },
  {
   "cell_type": "code",
   "execution_count": null,
   "metadata": {},
   "outputs": [],
   "source": [
    "labels['labels'].value_counts()"
   ]
  },
  {
   "cell_type": "code",
   "execution_count": null,
   "metadata": {},
   "outputs": [],
   "source": [
    "table['cluster_shop'] = kmeans.labels_\n",
    "map_shop_cluster = table['cluster_shop']"
   ]
  },
  {
   "cell_type": "code",
   "execution_count": null,
   "metadata": {},
   "outputs": [],
   "source": [
    "transactions_result['cluster_shop'] = transactions_result['shop_id'].map(map_shop_cluster)\n",
    "downcast_dtypes(transactions_result)"
   ]
  },
  {
   "cell_type": "code",
   "execution_count": null,
   "metadata": {},
   "outputs": [],
   "source": [
    "transactions_group_item = transactions_result.groupby(['item_id','date_block_num'])['target'].sum().to_frame()"
   ]
  },
  {
   "cell_type": "code",
   "execution_count": null,
   "metadata": {},
   "outputs": [],
   "source": [
    "table_item = pd.pivot_table(transactions_group_item, values='target', index=['item_id'],\n",
    "                    columns=['date_block_num'], margins_name = ['date_block_num'])\n",
    "table_item.drop([34], axis = 1, inplace = True)"
   ]
  },
  {
   "cell_type": "code",
   "execution_count": null,
   "metadata": {},
   "outputs": [],
   "source": [
    "item_shop = transactions_result.groupby(['item_id','shop_id'])['target'].sum().to_frame()"
   ]
  },
  {
   "cell_type": "code",
   "execution_count": null,
   "metadata": {},
   "outputs": [],
   "source": [
    "table_item_shop = pd.pivot_table(item_shop, values='target', index=['item_id'],\n",
    "                    columns=['shop_id'])"
   ]
  },
  {
   "cell_type": "code",
   "execution_count": null,
   "metadata": {},
   "outputs": [],
   "source": [
    "colum = table_item_shop.columns"
   ]
  },
  {
   "cell_type": "code",
   "execution_count": null,
   "metadata": {},
   "outputs": [],
   "source": [
    "for column in colum:\n",
    "    table_item_shop.rename(columns={column: 'id'+str(column)}, inplace=True)"
   ]
  },
  {
   "cell_type": "code",
   "execution_count": null,
   "metadata": {},
   "outputs": [],
   "source": [
    "item_price = transactions_result.groupby(['item_id','date_block_num'])['item_price_minmax'].mean().to_frame()"
   ]
  },
  {
   "cell_type": "code",
   "execution_count": null,
   "metadata": {},
   "outputs": [],
   "source": [
    "table_item_price = pd.pivot_table(item_price, values='item_price_minmax', index=['item_id'],\n",
    "                    columns=['date_block_num'])\n",
    "table_item_price.drop([34], axis = 1, inplace = True)"
   ]
  },
  {
   "cell_type": "code",
   "execution_count": null,
   "metadata": {},
   "outputs": [],
   "source": [
    "colum = table_item_price.columns\n",
    "for column in colum:\n",
    "    table_item_price.rename(columns={column: 'data'+str(column)}, inplace=True)"
   ]
  },
  {
   "cell_type": "code",
   "execution_count": null,
   "metadata": {},
   "outputs": [],
   "source": [
    "table_item = pd.concat([table_item, table_item_shop, table_item_price], axis = 1)"
   ]
  },
  {
   "cell_type": "code",
   "execution_count": null,
   "metadata": {},
   "outputs": [],
   "source": [
    "del table_item_shop\n",
    "del table_item_price"
   ]
  },
  {
   "cell_type": "code",
   "execution_count": null,
   "metadata": {},
   "outputs": [],
   "source": [
    "X = table_item.iloc[:,1:]\n",
    "X = normalize(X)\n",
    "\n",
    "kmeans = KMeans(n_clusters=3, random_state=241)\n",
    "kmeans.fit(X)\n",
    "labels = pd.DataFrame(kmeans.labels_, columns = ['labels'])"
   ]
  },
  {
   "cell_type": "code",
   "execution_count": null,
   "metadata": {},
   "outputs": [],
   "source": [
    "labels['labels'].value_counts()"
   ]
  },
  {
   "cell_type": "code",
   "execution_count": null,
   "metadata": {},
   "outputs": [],
   "source": [
    "table_item['cluster_item'] = kmeans.labels_"
   ]
  },
  {
   "cell_type": "code",
   "execution_count": null,
   "metadata": {},
   "outputs": [],
   "source": [
    "map_cluster = table_item['cluster_item']"
   ]
  },
  {
   "cell_type": "code",
   "execution_count": null,
   "metadata": {},
   "outputs": [],
   "source": [
    "transactions_result['cluster_item'] = transactions_result['item_id'].map(map_cluster)\n",
    "downcast_dtypes(transactions_result)"
   ]
  },
  {
   "cell_type": "code",
   "execution_count": null,
   "metadata": {},
   "outputs": [],
   "source": [
    "# признак колличество продаж магазин-категория_товара-месяц\n",
    "target_shop_categories = transactions_result.groupby(['shop_id', 'item_categories', 'date_block_num'],as_index=False).agg({'target':{'target_shop_categories':'sum'}})\n",
    "target_shop_categories.columns = [col[0] if col[-1]=='' else col[-1] for col in target_shop_categories.columns.values]\n",
    "# признак колличество продаж магазин-месяц\n",
    "target_shop = transactions_result.groupby(['shop_id', 'date_block_num'],as_index=False).agg({'target':{'target_shop':'sum'}})\n",
    "target_shop.columns = [col[0] if col[-1]=='' else col[-1] for col in target_shop.columns.values] # этот код для того чтобы название target_shop не было вместе с target\n",
    "# признак колличество продаж товар-месяц\n",
    "target_item = transactions_result.groupby(['item_id', 'date_block_num'],as_index=False).agg({'target':{'target_item':'sum'}})\n",
    "target_item.columns = [col[0] if col[-1]=='' else col[-1] for col in target_item.columns.values]\n",
    "# признак колличество продаж категория-месяц\n",
    "target_item_categories = transactions_result.groupby(['item_categories', 'date_block_num'],as_index=False).agg({'target':{'target_item_categories':'sum'}})\n",
    "target_item_categories.columns = [col[0] if col[-1]=='' else col[-1] for col in target_item_categories.columns.values]"
   ]
  },
  {
   "cell_type": "code",
   "execution_count": null,
   "metadata": {},
   "outputs": [],
   "source": [
    "# приклеиваем новые признаки к данным\n",
    "transactions_result = transactions_result.set_index(['shop_id', 'item_categories', 'date_block_num']).join(target_shop_categories.set_index(['shop_id', 'item_categories', 'date_block_num']))\n",
    "transactions_result.reset_index(inplace = True)\n",
    "#del target_shop_categories\n",
    "transactions_result = transactions_result.set_index(['shop_id','date_block_num']).join(target_shop.set_index(['shop_id','date_block_num']))\n",
    "transactions_result.reset_index(inplace = True)\n",
    "#del target_shop\n",
    "transactions_result = transactions_result.set_index(['item_id','date_block_num']).join(target_item.set_index(['item_id','date_block_num']))\n",
    "transactions_result.reset_index(inplace = True)\n",
    "#del target_item\n",
    "transactions_result = transactions_result.set_index(['item_categories','date_block_num']).join(target_item_categories.set_index(['item_categories','date_block_num']))\n",
    "transactions_result.reset_index(inplace = True)\n",
    "#del target_item_categories"
   ]
  },
  {
   "cell_type": "code",
   "execution_count": null,
   "metadata": {},
   "outputs": [],
   "source": [
    "# сортируем как в тестовом наборе\n",
    "transactions_result = transactions_result.sort_values(by=['date_block_num','ID'])\n",
    "transactions_result.reset_index(inplace = True)\n",
    "transactions_result.drop(['index'], axis = 1, inplace = True)"
   ]
  },
  {
   "cell_type": "code",
   "execution_count": null,
   "metadata": {},
   "outputs": [],
   "source": [
    "transactions_result_tmp = transactions_result[['ID','shop_id', 'item_id', 'date_block_num','target','target_shop','target_item','target_item_categories',]].copy()"
   ]
  },
  {
   "cell_type": "code",
   "execution_count": null,
   "metadata": {},
   "outputs": [],
   "source": [
    "downcast_dtypes(transactions_result_tmp)"
   ]
  },
  {
   "cell_type": "code",
   "execution_count": null,
   "metadata": {},
   "outputs": [],
   "source": [
    "index_cols = ['ID','shop_id', 'item_id', 'date_block_num']\n",
    "# List of columns that we will use to create lags\n",
    "\n",
    "cols_to_rename = list(transactions_result_tmp.columns.difference(index_cols)) \n",
    "\n",
    "shift_range = [1, 2, 3, 4, 5, 6, 12, 13, 14, 15, 16, 17]\n",
    "\n",
    "for month_shift in shift_range:\n",
    "    \n",
    "    print(month_shift)\n",
    "    \n",
    "    train_shift = transactions_result_tmp[index_cols + cols_to_rename].copy()\n",
    "    \n",
    "    train_shift['date_block_num'] = train_shift['date_block_num'] + month_shift\n",
    "    \n",
    "    foo = lambda x: '{}_lag_{}'.format(x, month_shift) if x in cols_to_rename else x\n",
    "    train_shift = train_shift.rename(columns=foo)\n",
    "\n",
    "    transactions_result_tmp = pd.merge(transactions_result_tmp, train_shift, on=index_cols, how='left')\n",
    "\n",
    "del train_shift"
   ]
  },
  {
   "cell_type": "code",
   "execution_count": null,
   "metadata": {},
   "outputs": [],
   "source": [
    "for col in transactions_result_tmp.columns.to_list():\n",
    "    transactions_result_tmp[col].fillna(0, inplace = True)"
   ]
  },
  {
   "cell_type": "code",
   "execution_count": null,
   "metadata": {},
   "outputs": [],
   "source": [
    "down (transactions_result_tmp)"
   ]
  },
  {
   "cell_type": "code",
   "execution_count": null,
   "metadata": {},
   "outputs": [],
   "source": [
    "transactions_result.reset_index(inplace = True)\n",
    "transactions_result.drop(['index'], axis = 1, inplace = True)"
   ]
  },
  {
   "cell_type": "code",
   "execution_count": null,
   "metadata": {},
   "outputs": [],
   "source": [
    "downcast_dtypes(transactions_result)"
   ]
  },
  {
   "cell_type": "code",
   "execution_count": null,
   "metadata": {},
   "outputs": [],
   "source": [
    "for miss in ['target_shop_categories','target_shop','target_item','target_item_categories']:\n",
    "    miss = miss + \"_miss\"\n",
    "    transactions_result[miss] = 0\n",
    "    transactions_result.loc[transactions_result['date_block_num']==34, miss] = 1"
   ]
  },
  {
   "cell_type": "code",
   "execution_count": null,
   "metadata": {},
   "outputs": [],
   "source": [
    "transactions_result = pd.concat([transactions_result, transactions_result_tmp.iloc[:,8:]], axis = 1)"
   ]
  },
  {
   "cell_type": "code",
   "execution_count": null,
   "metadata": {},
   "outputs": [],
   "source": [
    "transactions_result.reset_index().head()"
   ]
  },
  {
   "cell_type": "code",
   "execution_count": null,
   "metadata": {},
   "outputs": [],
   "source": [
    "downcast_dtypes(transactions_result)"
   ]
  },
  {
   "cell_type": "code",
   "execution_count": null,
   "metadata": {},
   "outputs": [],
   "source": [
    "transactions_result['item_info'] = transactions_result['item_id'].map(items['item_name_translated'])"
   ]
  },
  {
   "cell_type": "code",
   "execution_count": null,
   "metadata": {},
   "outputs": [],
   "source": [
    "transactions_result.info()"
   ]
  },
  {
   "cell_type": "code",
   "execution_count": null,
   "metadata": {},
   "outputs": [],
   "source": [
    "transactions_result.to_csv('transactions_result.csv', index = False)"
   ]
  }
 ],
 "metadata": {
  "kernelspec": {
   "display_name": "Python 3",
   "language": "python",
   "name": "python3"
  },
  "language_info": {
   "codemirror_mode": {
    "name": "ipython",
    "version": 3
   },
   "file_extension": ".py",
   "mimetype": "text/x-python",
   "name": "python",
   "nbconvert_exporter": "python",
   "pygments_lexer": "ipython3",
   "version": "3.7.4"
  }
 },
 "nbformat": 4,
 "nbformat_minor": 1
}
