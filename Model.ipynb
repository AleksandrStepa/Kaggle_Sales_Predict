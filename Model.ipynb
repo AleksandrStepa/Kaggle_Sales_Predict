{
 "cells": [
  {
   "cell_type": "code",
   "execution_count": null,
   "metadata": {},
   "outputs": [],
   "source": [
    "import numpy as np\n",
    "import pandas as pd\n",
    "import matplotlib.pyplot as plt\n",
    "\n",
    "from sklearn.metrics import mean_squared_error\n",
    "from sklearn.metrics import r2_score\n",
    "import seaborn as sns\n",
    "\n",
    "from sklearn.tree import DecisionTreeRegressor\n",
    "from sklearn.ensemble import AdaBoostRegressor\n",
    "from sklearn.cluster import KMeans\n",
    "import lightgbm as lgb\n",
    "from sklearn import linear_model\n",
    "from sklearn.neighbors import KNeighborsRegressor\n",
    "from sklearn.model_selection import KFold\n",
    "from sklearn.feature_extraction.text import TfidfVectorizer\n",
    "\n",
    "from sklearn.model_selection import GridSearchCV\n",
    "\n",
    "from sklearn.preprocessing import normalize\n",
    "from sklearn.model_selection import cross_val_score\n",
    "from scipy import sparse\n",
    "\n",
    "\n",
    "from math import sqrt\n",
    "import statistics \n",
    "\n",
    "from IPython.core import display as ICD\n",
    "import warnings\n",
    "\n",
    "%matplotlib inline\n",
    "warnings.filterwarnings('ignore')"
   ]
  },
  {
   "cell_type": "code",
   "execution_count": null,
   "metadata": {},
   "outputs": [],
   "source": [
    "transactions_result = pd.read_csv('transactions_result.csv')"
   ]
  },
  {
   "cell_type": "code",
   "execution_count": null,
   "metadata": {},
   "outputs": [],
   "source": [
    "def downcast_dtypes(df):\n",
    "    '''\n",
    "        Changes column types in the dataframe: \n",
    "                \n",
    "                `float64` type to `float32`\n",
    "                `int64`   type to `int32`\n",
    "    '''\n",
    "    \n",
    "    # Select columns to downcast\n",
    "    float_cols = [c for c in df if df[c].dtype == \"float64\"]\n",
    "    int_cols =   [c for c in df if df[c].dtype == \"int64\"]\n",
    "    \n",
    "    # Downcast\n",
    "    df[float_cols] = df[float_cols].astype(np.float32)\n",
    "    df[int_cols]   = df[int_cols].astype(np.int32)\n",
    "    \n",
    "    return df.head()"
   ]
  },
  {
   "cell_type": "code",
   "execution_count": null,
   "metadata": {},
   "outputs": [],
   "source": [
    "downcast_dtypes(transactions_result)"
   ]
  },
  {
   "cell_type": "code",
   "execution_count": null,
   "metadata": {},
   "outputs": [],
   "source": [
    "transactions_result.loc[transactions_result['flag_miss_price']==1, 'item_price_minmax']=0"
   ]
  },
  {
   "cell_type": "code",
   "execution_count": null,
   "metadata": {},
   "outputs": [],
   "source": [
    "cols = transactions_result.columns.tolist() \n",
    "print(cols)"
   ]
  },
  {
   "cell_type": "code",
   "execution_count": null,
   "metadata": {},
   "outputs": [],
   "source": [
    "cols = cols[4:5] + cols[3:4] + cols[2:3]+ cols[1:2] + cols[10:13] + cols[0:1] + cols[7:8] + cols[9:10] + cols[11:-1] + cols[6:7]"
   ]
  },
  {
   "cell_type": "code",
   "execution_count": null,
   "metadata": {},
   "outputs": [],
   "source": [
    "df_train = transactions_result[cols]"
   ]
  },
  {
   "cell_type": "code",
   "execution_count": null,
   "metadata": {},
   "outputs": [],
   "source": [
    "rng = np.random.RandomState(1)\n",
    "regr_model = AdaBoostRegressor(DecisionTreeRegressor(max_depth=6),\n",
    "                          n_estimators=200, learning_rate=0.1, random_state=rng)\n",
    "\n",
    "y_pred_list_val = []\n",
    "\n",
    "shop_list = list(transactions_result['shop_id'].unique())\n",
    "clus_list = list(transactions_result['cluster_item'].unique())\n",
    "\n",
    "for shop_id in shop_list:\n",
    "    for clus_id in clus_list:\n",
    "        df_train_pred = df_train.loc[(df_train['shop_id'] == shop_id)&(df_train['cluster_item'] == clus_id)]\n",
    "        df_train_X = df_train_pred.drop(['target'],axis = 1)\n",
    "    \n",
    "        X_train = df_train_X.loc[(df_train_X['date_block_num']>12)&(df_train_X['date_block_num']<33)].values       \n",
    "        X_val = df_train_X.loc[df_train_X['date_block_num']==33].values       \n",
    "        y_train = df_train_pred.loc[(df_train_pred['date_block_num']>12)&(df_train_pred['date_block_num']<33)]['target'].values\n",
    "        y_val = df_train_pred.loc[df_train_pred['date_block_num']==33]['target'].values\n",
    "    \n",
    "        regr_model.fit(X_train, y_train)\n",
    "    \n",
    "        y_pred_shop_id_val = regr_model.predict(X_val)\n",
    "        print(f'Test rmse for {shop_id} AdaBoost is {sqrt(mean_squared_error(y_val, y_pred_shop_id_val))}')\n",
    "        y_pred_list_val.append(y_pred_shop_id_val)"
   ]
  },
  {
   "cell_type": "code",
   "execution_count": null,
   "metadata": {},
   "outputs": [],
   "source": [
    "rng = np.random.RandomState(1)\n",
    "regr_model = AdaBoostRegressor(DecisionTreeRegressor(max_depth=4),\n",
    "                               random_state=rng)\n",
    "grid = {'n_estimators':[20,30,40],\n",
    "        'learning_rate':[0.5,0.2,0.1]}\n",
    "\n",
    "y_pred_list_val = []\n",
    "\n",
    "shop_list = list(transactions_result['shop_id'].unique())\n",
    "clus_list = list(transactions_result['cluster_item'].unique())\n",
    "\n",
    "for shop_id in shop_list:\n",
    "    for clus_id in clus_list:\n",
    "        df_train_pred = df_train.loc[(df_train['shop_id'] == shop_id)&(df_train['cluster_item'] == clus_id)]\n",
    "        df_train_X = df_train_pred.drop(['target'],axis = 1)\n",
    "    \n",
    "        X_train = df_train_X.loc[(df_train_X['date_block_num']>12)&(df_train_X['date_block_num']<33)].values       \n",
    "        X_val = df_train_X.loc[df_train_X['date_block_num']==33].values       \n",
    "        y_train = df_train_pred.loc[(df_train_pred['date_block_num']>12)&(df_train_pred['date_block_num']<33)]['target'].values\n",
    "        y_val = df_train_pred.loc[df_train_pred['date_block_num']==33]['target'].values\n",
    "        \n",
    "        gs = GridSearchCV(regr_model, grid, scoring='neg_mean_squared_error')\n",
    "        gs.fit(X_train, y_train)\n",
    "        \n",
    "        regr = best_estimator_\n",
    "        \n",
    "    \n",
    "        y_pred_shop_id_val = regr.predict(X_val)\n",
    "        print(f'Test rmse for {shop_id} AdaBoost is {sqrt(mean_squared_error(y_val, y_pred_shop_id_val))}')\n",
    "        y_pred_list_val.append(y_pred_shop_id_val)"
   ]
  },
  {
   "cell_type": "code",
   "execution_count": null,
   "metadata": {},
   "outputs": [],
   "source": [
    "test = pd.read_csv('test.csv')\n",
    "test['cluster_item'] = transactions_result.loc[transactions_result['date_block_num']==34]['cluster_item'].values\n",
    "val_clus_list = []\n",
    "\n",
    "\n",
    "\n",
    "i = 0\n",
    "for shop_id in shop_list:\n",
    "    for clus_id in clus_list:\n",
    "        val_clus = test.loc[(test['shop_id']==shop_id)&(test['cluster_item']==clus_id)].copy()\n",
    "        val_clus['y_pred'] = y_pred_list_val[i]\n",
    "        val_clus_list.append(val_clus)       \n",
    "        i += 1\n",
    "    \n",
    "for i in range(len(val_clus_list)):\n",
    "    val_clus_list[i] = np.where(val_clus_list[i]<0.5, 0, val_clus_list[i])\n",
    "    \n",
    "y_pred_val = np.vstack(val_clus_list)\n",
    "y_pred_val = pd.DataFrame(y_pred_val, columns = ['ID','shop_id','item_id','cluster_item','y_pred'])\n",
    "y_pred_val = y_pred_val.sort_values(by=['ID'])   "
   ]
  },
  {
   "cell_type": "code",
   "execution_count": null,
   "metadata": {},
   "outputs": [],
   "source": [
    "y_val = df_train.loc[df_train['date_block_num']==33]['target'].values\n",
    "print('Test rmse for DT is %f' % sqrt(mean_squared_error(y_val, y_pred_val['y_pred'])))"
   ]
  },
  {
   "cell_type": "code",
   "execution_count": null,
   "metadata": {},
   "outputs": [],
   "source": [
    "rng = np.random.RandomState(1)\n",
    "regr_model = AdaBoostRegressor(DecisionTreeRegressor(max_depth=4),\n",
    "                          n_estimators=20, random_state=rng)\n",
    "\n",
    "y_pred_list = []\n",
    "shop_list = list(transactions_result['shop_id'].unique())\n",
    "clus_list = list(transactions_result['cluster_item'].unique())\n",
    "\n",
    "for shop_id in shop_list:\n",
    "    for clus_id in clus_list:\n",
    "        df_train_pred = df_train.loc[(df_train['shop_id'] == shop_id)&(df_train['cluster_item'] == clus_id)]\n",
    "        df_train_X = df_train_pred.drop(['target'],axis = 1)\n",
    "    \n",
    "        X_train = df_train_X.loc[(df_train_X['date_block_num']>12)&(df_train_X['date_block_num']<34)].values\n",
    "        X_test = df_train_X.loc[df_train_X['date_block_num']==34].values\n",
    "        y_train = df_train_pred.loc[(df_train_pred['date_block_num']>12)&(df_train_pred['date_block_num']<34)]['target'].values\n",
    "           \n",
    "        regr_model.fit(X_train, y_train) \n",
    "        y_pred_shop_id = regr_model.predict(X_test)\n",
    "        y_pred_list.append(y_pred_shop_id)\n",
    "    print(shop_id)"
   ]
  },
  {
   "cell_type": "code",
   "execution_count": null,
   "metadata": {},
   "outputs": [],
   "source": [
    "test = pd.read_csv('test.csv')\n",
    "test['cluster_item'] = transactions_result.loc[transactions_result['date_block_num']==34]['cluster_item'].values\n",
    "\n",
    "test_clus_list = []\n",
    "\n",
    "\n",
    "i = 0\n",
    "for shop_id in shop_list:\n",
    "    for clus_id in clus_list:\n",
    "        test_clus = test.loc[(test['shop_id']==shop_id)&(test['cluster_item']==clus_id)].copy()\n",
    "        test_clus['y_pred'] = y_pred_list[i]\n",
    "        test_clus_list.append(test_clus)      \n",
    "        i += 1\n",
    "    \n",
    "for i in range(len(test_clus_list)):\n",
    "    test_clus_list[i] = np.where(test_clus_list[i]<0.5, 0, test_clus_list[i])\n",
    "      \n",
    "y_pred = np.vstack(test_clus_list)\n",
    "y_pred = pd.DataFrame(y_pred, columns = ['ID','shop_id','item_id','cluster_item','y_pred'])\n",
    "y_pred = y_pred.sort_values(by=['ID'])"
   ]
  },
  {
   "cell_type": "code",
   "execution_count": null,
   "metadata": {},
   "outputs": [],
   "source": [
    "one_hot_item = df_train[['cluster_item']]\n",
    "one_hot_item = pd.get_dummies(one_hot_item['cluster_item'])\n",
    "colum = one_hot_item.columns\n",
    "for column in colum:\n",
    "    one_hot_item.rename(columns={column: 'cluster'+str(column)}, inplace=True)"
   ]
  },
  {
   "cell_type": "code",
   "execution_count": null,
   "metadata": {},
   "outputs": [],
   "source": [
    "one_hot_cat = df_train[['item_categories']]\n",
    "one_hot_cat = pd.get_dummies(one_hot_cat['item_categories'])\n",
    "colum = one_hot_cat.columns\n",
    "for column in colum:\n",
    "    one_hot_cat.rename(columns={column: 'cat'+str(column)}, inplace=True)"
   ]
  },
  {
   "cell_type": "code",
   "execution_count": null,
   "metadata": {},
   "outputs": [],
   "source": [
    "one_hot_sub = df_train[['sub_categories']]\n",
    "one_hot_sub = pd.get_dummies(one_hot_sub['sub_categories'])\n",
    "colum = one_hot_sub.columns\n",
    "for column in colum:\n",
    "    one_hot_sub.rename(columns={column: 'sub'+str(column)}, inplace=True)"
   ]
  },
  {
   "cell_type": "code",
   "execution_count": null,
   "metadata": {},
   "outputs": [],
   "source": [
    "one_hot_city = df_train[['city_code']]\n",
    "one_hot_city = pd.get_dummies(one_hot_city['city_code'])\n",
    "colum = one_hot_city.columns\n",
    "for column in colum:\n",
    "    one_hot_city.rename(columns={column: 'city'+str(column)}, inplace=True)"
   ]
  },
  {
   "cell_type": "markdown",
   "metadata": {},
   "source": [
    "# Подготовка данных для анализа текста \n",
    "## С использованием разряженных матриц"
   ]
  },
  {
   "cell_type": "code",
   "execution_count": null,
   "metadata": {},
   "outputs": [],
   "source": [
    "X_train_v = transactions_result.loc[(transactions_result['date_block_num']>12)&(transactions_result['date_block_num']<33),'item_info'].values\n",
    "X_test_v = transactions_result.loc[transactions_result['date_block_num']==33, 'item_info'].values"
   ]
  },
  {
   "cell_type": "code",
   "execution_count": null,
   "metadata": {},
   "outputs": [],
   "source": [
    "vectorizer = TfidfVectorizer()\n",
    "X_tr_vectorizer = vectorizer.fit_transform(X_train_v)\n",
    "X_tt_vectorizer = vectorizer.transform(X_test_v)"
   ]
  },
  {
   "cell_type": "code",
   "execution_count": null,
   "metadata": {},
   "outputs": [],
   "source": [
    "df_train_lr = df_train.drop(columns = ['sub_categories','item_categories','city_code'])"
   ]
  },
  {
   "cell_type": "code",
   "execution_count": null,
   "metadata": {},
   "outputs": [],
   "source": [
    "X_train = df_train_lr.loc[(df_train_lr['date_block_num']>12)&(df_train_lr['date_block_num']<33)]\n",
    "X_train = X_train.drop(['target','ID','item_id','shop_id','date_block_num','cluster_item'],axis = 1).values\n",
    "X_test = df_train_lr.loc[df_train_lr['date_block_num']==33]\n",
    "X_test = X_test.drop(['target','ID','item_id','shop_id','date_block_num','cluster_item'],axis = 1).values"
   ]
  },
  {
   "cell_type": "code",
   "execution_count": null,
   "metadata": {},
   "outputs": [],
   "source": [
    "X_tr_vectorizer.shape, X_train.shape"
   ]
  },
  {
   "cell_type": "code",
   "execution_count": null,
   "metadata": {},
   "outputs": [],
   "source": [
    "X_train = sparse.csr_matrix(X_train)\n",
    "X_test = sparse.csr_matrix(X_test)"
   ]
  },
  {
   "cell_type": "code",
   "execution_count": null,
   "metadata": {},
   "outputs": [],
   "source": [
    "y_train = X_train[:,-1]\n",
    "y_test = X_test[:,-1]\n",
    "X_train = X_train[:,:-1]\n",
    "X_test = X_test[:,:-1]"
   ]
  },
  {
   "cell_type": "code",
   "execution_count": null,
   "metadata": {},
   "outputs": [],
   "source": [
    "X_train = sparse.hstack((X_train,X_tr_vectorizer))\n",
    "X_test = sparse.hstack((X_test,X_tt_vectorizer))"
   ]
  },
  {
   "cell_type": "code",
   "execution_count": null,
   "metadata": {},
   "outputs": [],
   "source": [
    "y_train = np.resize(y_train,(4284000))\n",
    "y_test = np.resize(y_test,(214200))"
   ]
  },
  {
   "cell_type": "code",
   "execution_count": null,
   "metadata": {},
   "outputs": [],
   "source": [
    "# Очень долго считает, так и не дождался\n",
    "lr = linear_model.Ridge(alpha=1)\n",
    "lr.fit(X_train, y_train)\n",
    "y_pred = lr.predict(X_test)\n",
    "print(f'Test rmse for {shop_id} Linear Regression is {sqrt(mean_squared_error(y_test, y_pred))}')"
   ]
  },
  {
   "cell_type": "code",
   "execution_count": null,
   "metadata": {},
   "outputs": [],
   "source": [
    "df_train_lr = df_train.drop(columns = ['sub_categories','item_categories','city_code'])"
   ]
  },
  {
   "cell_type": "code",
   "execution_count": null,
   "metadata": {},
   "outputs": [],
   "source": [
    "df_train_lr = pd.concat([df_train_lr,one_hot_item, one_hot_cat, one_hot_sub, one_hot_city], axis = 1)"
   ]
  },
  {
   "cell_type": "code",
   "execution_count": null,
   "metadata": {},
   "outputs": [],
   "source": [
    "lr = linear_model.Ridge(alpha=350)\n",
    "pred_lr_list_val = []\n",
    "\n",
    "shop_list = list(transactions_result['shop_id'].unique())\n",
    "clus_list = list(transactions_result['cluster_item'].unique())\n",
    "\n",
    "for shop_id in shop_list:\n",
    "    for clus_id in clus_list:\n",
    "        df_train_pred = df_train_lr.loc[(df_train_lr['shop_id'] == shop_id)&(df_train_lr['cluster_item'] == clus_id)]\n",
    "    \n",
    "        X_train = df_train_pred.loc[(df_train_pred['date_block_num']>12)&(df_train_pred['date_block_num']<33)]\n",
    "        X_train = X_train.drop(['target','ID','item_id','shop_id','date_block_num','cluster_item'],axis = 1).values\n",
    "        X_val = df_train_pred.loc[df_train_pred['date_block_num']==33]\n",
    "        X_val = X_val.drop(['target','ID','item_id','shop_id','date_block_num','cluster_item'],axis = 1).values            \n",
    "        y_train = df_train_pred.loc[(df_train_pred['date_block_num']>12)&(df_train_pred['date_block_num']<33)]['target'].values\n",
    "        y_val = df_train_pred.loc[df_train_pred['date_block_num']==33]['target'].values\n",
    "    \n",
    "  \n",
    "        lr.fit(X_train, y_train)\n",
    "        pred_lr_shop_id_val = lr.predict(X_val)\n",
    "        print(f'Test rmse for {shop_id} Linear Regression is {sqrt(mean_squared_error(y_val, pred_lr_shop_id_val))}')\n",
    "        pred_lr_list_val.append(pred_lr_shop_id_val)        "
   ]
  },
  {
   "cell_type": "code",
   "execution_count": null,
   "metadata": {},
   "outputs": [],
   "source": [
    "test = pd.read_csv('test.csv')\n",
    "test['cluster_item'] = transactions_result.loc[transactions_result['date_block_num']==34]['cluster_item'].values\n",
    "\n",
    "val_clus_list = []\n",
    "\n",
    "i = 0\n",
    "for shop_id in shop_list:\n",
    "    for clus_id in clus_list:\n",
    "        val_clus = test.loc[(test['shop_id']==shop_id)&(test['cluster_item']==clus_id)].copy()\n",
    "        val_clus['y_pred'] = pred_lr_list_val[i]\n",
    "        val_clus_list.append(val_clus)\n",
    "        i += 1\n",
    "    \n",
    "for i in range(len( val_clus_list)):\n",
    "    val_clus_list[i] = np.where(val_clus_list[i]<0.5, 0, val_clus_list[i])\n",
    "    \n",
    "y_pred_lr_val = np.vstack(val_clus_list)\n",
    "y_pred_lr_val = pd.DataFrame(y_pred_lr_val, columns = ['ID','shop_id','item_id','cluster_item','y_pred'])\n",
    "y_pred_lr_val = y_pred_lr_val.sort_values(by=['ID'])    "
   ]
  },
  {
   "cell_type": "code",
   "execution_count": null,
   "metadata": {},
   "outputs": [],
   "source": [
    "y_val = df_train.loc[df_train['date_block_num']==33]['target'].values\n",
    "print('Test rmse for LR is %f' % sqrt(mean_squared_error(y_val, y_pred_lr_val['y_pred'])))"
   ]
  },
  {
   "cell_type": "code",
   "execution_count": null,
   "metadata": {},
   "outputs": [],
   "source": [
    "lr = linear_model.Ridge(alpha=350)\n",
    "\n",
    "pred_lr_list = []\n",
    "\n",
    "shop_list = list(transactions_result['shop_id'].unique())\n",
    "clus_list = list(transactions_result['cluster_item'].unique())\n",
    "\n",
    "for shop_id in shop_list:\n",
    "    for clus_id in clus_list:\n",
    "        df_train_pred = df_train_lr.loc[(df_train_lr['shop_id'] == shop_id)&(df_train_lr['cluster_item'] == clus_id)]\n",
    "    \n",
    "        X_train = df_train_pred.loc[(df_train_pred['date_block_num']>12)&(df_train_pred['date_block_num']<34)]\n",
    "        X_train = X_train.drop(['target','ID','item_id','shop_id','date_block_num'],axis = 1).values\n",
    "        X_test = df_train_pred.loc[df_train_pred['date_block_num']==34]\n",
    "        X_test = X_test.drop(['target','ID','item_id','shop_id','date_block_num'],axis = 1).values\n",
    "        y_train = df_train_pred.loc[(df_train_pred['date_block_num']>12)&(df_train_pred['date_block_num']<34)]['target'].values   \n",
    "  \n",
    "        lr.fit(X_train, y_train)\n",
    "        pred_lr_shop_id = lr.predict(X_test)\n",
    "        pred_lr_list.append(pred_lr_shop_id)\n",
    "    print(shop_id)"
   ]
  },
  {
   "cell_type": "code",
   "execution_count": null,
   "metadata": {},
   "outputs": [],
   "source": [
    "test = pd.read_csv('test.csv')\n",
    "test['cluster_item'] = transactions_result.loc[transactions_result['date_block_num']==34]['cluster_item'].values\n",
    "test_clus_list = []\n",
    "\n",
    "i = 0\n",
    "for shop_id in shop_list:\n",
    "    for clus_id in clus_list:  \n",
    "        test_clus = test.loc[(test['shop_id']==shop_id)&(test['cluster_item']==clus_id)].copy()\n",
    "        test_clus['y_pred'] = pred_lr_list[i]\n",
    "        test_clus_list.append(test_clus)\n",
    "        i += 1\n",
    "    \n",
    "for i in range(len(test_clus_list)):\n",
    "    test_clus_list[i] = np.where(test_clus_list[i]<0.5, 0, test_clus_list[i])\n",
    " \n",
    "y_pred_lr = np.vstack(test_clus_list)\n",
    "y_pred_lr = pd.DataFrame(y_pred_lr, columns = ['ID','shop_id','item_id','cluster_item','y_pred'])\n",
    "y_pred_lr = y_pred_lr.sort_values(by=['ID'])"
   ]
  },
  {
   "cell_type": "code",
   "execution_count": null,
   "metadata": {},
   "outputs": [],
   "source": [
    "KNN = KNeighborsRegressor(n_neighbors=3, weights='distance')\n",
    "pred_KNN_list_val = []\n",
    "\n",
    "shop_list = list(transactions_result['shop_id'].unique())\n",
    "clus_list = list(transactions_result['cluster_item'].unique())\n",
    "\n",
    "\n",
    "for shop_id in shop_list:\n",
    "    for clus_id in clus_list:\n",
    "        df_train_pred = df_train.loc[(df_train['shop_id'] == shop_id)&(df_train['cluster_item'] == clus_id)]\n",
    "    \n",
    "        X_train = df_train_pred.loc[(df_train_pred['date_block_num']>12)&(df_train_pred['date_block_num']<33)]\n",
    "        X_train = X_train.drop(['target','ID','item_id','shop_id','date_block_num','item_categories','cluster_item'],axis = 1).values\n",
    "        X_val = df_train_pred.loc[df_train_pred['date_block_num']==33]\n",
    "        X_val = X_val.drop(['target','ID','item_id','shop_id','date_block_num','item_categories','cluster_item'],axis = 1).values\n",
    "        y_train = df_train_pred.loc[(df_train_pred['date_block_num']>12)&(df_train_pred['date_block_num']<33)]['target'].values\n",
    "        y_val = df_train_pred.loc[df_train_pred['date_block_num']==33]['target'].values\n",
    "    \n",
    "  \n",
    "        KNN.fit(X_train, y_train)\n",
    "        pred_KNN_shop_id_val = KNN.predict(X_val)\n",
    "        print(f'Test rmse for {shop_id} KNN is {sqrt(mean_squared_error(y_val, pred_KNN_shop_id_val))}')\n",
    "        pred_KNN_list_val.append(pred_KNN_shop_id_val)"
   ]
  },
  {
   "cell_type": "code",
   "execution_count": null,
   "metadata": {},
   "outputs": [],
   "source": [
    "test = pd.read_csv('test.csv')\n",
    "test['cluster_item'] = transactions_result.loc[transactions_result['date_block_num']==34]['cluster_item'].values\n",
    "val_clus_list = []\n",
    "\n",
    "i = 0\n",
    "for shop_id in shop_list:\n",
    "    for clus_id in clus_list:\n",
    "        val_clus = test.loc[(test['shop_id']==shop_id)&(test['cluster_item']==clus_id)].copy()\n",
    "        val_clus['y_pred'] = pred_KNN_list_val[i]\n",
    "        val_clus_list.append(val_clus)\n",
    "        i += 1\n",
    "    \n",
    "for i in range(len(test_clus_list)):\n",
    "    val_clus_list[i] = np.where(val_clus_list[i]<0.5, 0, val_clus_list[i])\n",
    "    \n",
    "pred_KNN_val = np.vstack(val_clus_list)\n",
    "pred_KNN_val = pd.DataFrame(pred_KNN_val, columns = ['ID','shop_id','item_id','cluster_item','y_pred'])\n",
    "pred_KNN_val = pred_KNN_val.sort_values(by=['ID'])"
   ]
  },
  {
   "cell_type": "code",
   "execution_count": null,
   "metadata": {},
   "outputs": [],
   "source": [
    "y_val = df_train.loc[df_train['date_block_num']==33]['target'].values\n",
    "print('Test rmse for KNN is %f' % sqrt(mean_squared_error(y_val, pred_KNN_val['y_pred'])))"
   ]
  },
  {
   "cell_type": "code",
   "execution_count": null,
   "metadata": {},
   "outputs": [],
   "source": [
    "KNN = KNeighborsRegressor(n_neighbors=3, weights='distance')\n",
    "pred_KNN_list = []\n",
    "\n",
    "shop_list = list(transactions_result['shop_id'].unique())\n",
    "clus_list = list(transactions_result['cluster_item'].unique())\n",
    "\n",
    "for shop_id in shop_list:\n",
    "    for clus_id in clus_list:\n",
    "        df_train_pred = df_train.loc[(df_train['shop_id'] == shop_id)&(df_train['cluster_item'] == clus_id)]\n",
    "    \n",
    "        X_train = df_train_pred.loc[(df_train_pred['date_block_num']>12)&(df_train_pred['date_block_num']<34)]\n",
    "        X_train = X_train.drop(['target','ID','item_id','shop_id','date_block_num','item_categories','cluster_item'],axis = 1).values \n",
    "        X_test = df_train_pred.loc[df_train_pred['date_block_num']==34]\n",
    "        X_test = X_test.drop(['target','ID','item_id','shop_id','date_block_num','item_categories','cluster_item'],axis = 1).values\n",
    "        y_train = df_train_pred.loc[(df_train_pred['date_block_num']>12)&(df_train_pred['date_block_num']<34)]['target'].values\n",
    "     \n",
    "        KNN.fit(X_train, y_train)\n",
    "        pred_KNN_shop_id = KNN.predict(X_test)\n",
    "        pred_KNN_list.append(pred_KNN_shop_id)\n",
    "    print(shop_id)"
   ]
  },
  {
   "cell_type": "code",
   "execution_count": null,
   "metadata": {},
   "outputs": [],
   "source": [
    "test = pd.read_csv('test.csv')\n",
    "test['cluster_item'] = transactions_result.loc[transactions_result['date_block_num']==34]['cluster_item'].values\n",
    "test_clus_list = []\n",
    "\n",
    "i = 0\n",
    "for shop_id in shop_list:\n",
    "    for clus_id in clus_list:        \n",
    "        test_clus = test.loc[(test['shop_id']==shop_id)&(test['cluster_item']==clus_id)].copy()\n",
    "        test_clus['y_pred'] = pred_KNN_list[i]\n",
    "        test_clus_list.append(test_clus)\n",
    "        i += 1\n",
    "    \n",
    "for i in range(len(test_clus_list)):\n",
    "    test_clus_list[i] = np.where(test_clus_list[i]<0.5, 0, test_clus_list[i])\n",
    "    \n",
    "pred_KNN = np.vstack(test_clus_list)\n",
    "pred_KNN = pd.DataFrame(pred_KNN, columns = ['ID','shop_id','item_id','cluster_item','y_pred'])\n",
    "pred_KNN = pred_KNN.sort_values(by=['ID'])"
   ]
  },
  {
   "cell_type": "code",
   "execution_count": null,
   "metadata": {},
   "outputs": [],
   "source": [
    "predictions = [y_pred_val['y_pred'].values, pred_KNN_val['y_pred'].values, y_pred_lr_val['y_pred'],y_val]"
   ]
  },
  {
   "cell_type": "code",
   "execution_count": null,
   "metadata": {},
   "outputs": [],
   "source": [
    "predictions = np.vstack(predictions).T"
   ]
  },
  {
   "cell_type": "code",
   "execution_count": null,
   "metadata": {},
   "outputs": [],
   "source": [
    "y = predictions[:,-1]\n",
    "X = predictions[:,:-1]"
   ]
  },
  {
   "cell_type": "code",
   "execution_count": null,
   "metadata": {},
   "outputs": [],
   "source": [
    "kf = KFold(n_splits=5, random_state=42, shuffle=True)"
   ]
  },
  {
   "cell_type": "code",
   "execution_count": null,
   "metadata": {},
   "outputs": [],
   "source": [
    "train, test = zip(*kf.split(X))"
   ]
  },
  {
   "cell_type": "code",
   "execution_count": null,
   "metadata": {},
   "outputs": [],
   "source": [
    "score_temp = np.empty([5,1])\n",
    "y_predict = []\n",
    "model_list = []\n",
    "\n",
    "for train_index, test_index, i in zip(train,test,range(5)):\n",
    "    X_train = X[train_index]\n",
    "    y_train = y[train_index]\n",
    "    X_test = X[test_index]\n",
    "    y_test = y[test_index]\n",
    "    model_list.append(linear_model.LinearRegression(normalize=True).fit(X_train, y_train))   \n",
    "    y_predict.append(model_list[i].predict(X_test))\n",
    "    y_predict[i] = np.where(y_predict[i]<0.5, 0, y_predict[i])\n",
    "    score_temp[i] = sqrt(mean_squared_error(y_test, y_predict[i]))"
   ]
  },
  {
   "cell_type": "code",
   "execution_count": null,
   "metadata": {},
   "outputs": [],
   "source": [
    "score_temp"
   ]
  },
  {
   "cell_type": "code",
   "execution_count": null,
   "metadata": {},
   "outputs": [],
   "source": [
    "predictions = [y_pred['y_pred'].values, pred_KNN['y_pred'].values, y_pred_lr['y_pred']]\n",
    "predictions = np.vstack(predictions).T\n",
    "X = predictions"
   ]
  },
  {
   "cell_type": "code",
   "execution_count": null,
   "metadata": {},
   "outputs": [],
   "source": [
    "X.shape, predictions.shape"
   ]
  },
  {
   "cell_type": "code",
   "execution_count": null,
   "metadata": {},
   "outputs": [],
   "source": [
    "submission = pd.read_csv('sample_submission.csv')"
   ]
  },
  {
   "cell_type": "code",
   "execution_count": null,
   "metadata": {},
   "outputs": [],
   "source": [
    "for i in range(5):\n",
    "    pred = model_list[i].predict(X)\n",
    "    pred = np.where(pred<0.5, 0, pred)\n",
    "    submission['item_cnt_month'] = pred\n",
    "    submission.to_csv(f'submission_{i}.csv', index = False)"
   ]
  },
  {
   "cell_type": "code",
   "execution_count": null,
   "metadata": {},
   "outputs": [],
   "source": []
  }
 ],
 "metadata": {
  "kernelspec": {
   "display_name": "Python 3",
   "language": "python",
   "name": "python3"
  },
  "language_info": {
   "codemirror_mode": {
    "name": "ipython",
    "version": 3
   },
   "file_extension": ".py",
   "mimetype": "text/x-python",
   "name": "python",
   "nbconvert_exporter": "python",
   "pygments_lexer": "ipython3",
   "version": "3.7.4"
  }
 },
 "nbformat": 4,
 "nbformat_minor": 2
}
